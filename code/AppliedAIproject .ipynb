{
  "cells": [
    {
      "cell_type": "code",
      "execution_count": null,
      "metadata": {
        "id": "m2aKgYVvT9pn"
      },
      "outputs": [],
      "source": []
    },
    {
      "cell_type": "markdown",
      "metadata": {
        "id": "B5rcPhLFUDHc"
      },
      "source": [
        "Phase I: Decision Tree +\n",
        "\n",
        "Random Forest +\n",
        "\n",
        "Boosting (Supervised)\n",
        "\n",
        "and DT SemiSupervised\n",
        "\n",
        "Report\n",
        "\n",
        "README.txt\n",
        "\n",
        "One-page contribution\n",
        "\n",
        "Performance comparison of the 3 ML models (DT, RF,\n",
        "Boosting)\n",
        "\n",
        "Accuracy, precision, recall, F1-\n",
        "measure, confusion matrix"
      ]
    },
    {
      "cell_type": "code",
      "execution_count": null,
      "metadata": {
        "id": "wp475hooUXD1"
      },
      "outputs": [],
      "source": []
    },
    {
      "cell_type": "markdown",
      "metadata": {
        "id": "nhUojsphVFh_"
      },
      "source": [
        "First Phase (Decision Trees)\n",
        "5\n",
        "Each team is required to submit a 3-page report highlighting the main steps taken for the first phase\n",
        "and the results for the implementation of the machine learning models (supervised and semisupervised). The report should contain the following sections:\n",
        "1. Introduction and problem statement: In addition to defining the problem and its applications,\n",
        "discuss the general strategy for tackling the issue at hand. Discuss the challenges faced in solving\n",
        "this problem and any possible solutions to address them.\n",
        "2. Proposed Methodologies: Give updates regarding the methods used. Discuss the chosen dataset\n",
        "and the model in more detail than the proposal.\n",
        "3. Solving the problem: Elaborate on failed and successful attempts at tackling the problem.\n",
        "Furthermore, discuss the results.\n",
        "4. Future Improvements: Discuss briefly how and where you want to change to improve the\n",
        "accuracy of the model.\n",
        "5. References: You can add an additional page (if needed) to extend your reference list cited in\n",
        "your progress report. The citations may include, but not limited to, published papers and domain\n",
        "links (include a link to your dataset). Please note that failure to properly cite your references\n",
        "constitutes plagiarism and will be deemed for reporting.\n",
        "6. Supplementary Material [this section is appended to the main report draft]:\n",
        "You may include appendices to your report to support different sections of the main draft.\n",
        "The progress report should be in PDF format and uploaded in Moodle. For the report format, please\n",
        "consult “Reports Formatting” Section in the third page. Please note only the admin (one person)\n",
        "of your team needs to upload the progress report in PDF file in Moodle.\n"
      ]
    },
    {
      "cell_type": "code",
      "execution_count": null,
      "metadata": {
        "id": "R-HxaU4WVG-D"
      },
      "outputs": [],
      "source": []
    },
    {
      "cell_type": "code",
      "execution_count": null,
      "metadata": {
        "id": "sNcTyOwyW1u4"
      },
      "outputs": [],
      "source": []
    },
    {
      "cell_type": "markdown",
      "metadata": {
        "id": "DunrBgZGW4VN"
      },
      "source": [
        "Get Data\n",
        "\n",
        "Training Data\n",
        "Create datasets for training and testing your AI. You have to provide provenance information, i.e.,\n",
        "where you obtained each image in your dataset. You should re-use existing datasets, but again\n",
        "please make sure you properly reference the source of the image datasets (name, author, source,\n",
        "license of the dataset). Make sure that both your training and testing data sets are balanced, i.e.,\n",
        "have roughly the same number of images per class. Note that you will most likely have to perform\n",
        "suitable pre-processing (such as size-normalization) on your datasets. You must use real training\n",
        "data, i.e., using synthetic, generated data is not permitted.\n"
      ]
    },
    {
      "cell_type": "code",
      "execution_count": null,
      "metadata": {
        "id": "DsFhNucUW_nO"
      },
      "outputs": [],
      "source": []
    },
    {
      "cell_type": "code",
      "execution_count": null,
      "metadata": {
        "id": "b15ub7s110rM"
      },
      "outputs": [],
      "source": [
        "from google.colab import files"
      ]
    },
    {
      "cell_type": "code",
      "execution_count": null,
      "metadata": {
        "colab": {
          "base_uri": "https://localhost:8080/",
          "height": 114
        },
        "id": "bxxCkjEn13K4",
        "outputId": "dc9629a7-8e33-441b-f484-379f9f50af77"
      },
      "outputs": [
        {
          "data": {
            "text/html": [
              "\n",
              "     <input type=\"file\" id=\"files-ec3097b3-cc6b-449e-a8cb-5e6ca19877cc\" name=\"files[]\" multiple disabled\n",
              "        style=\"border:none\" />\n",
              "     <output id=\"result-ec3097b3-cc6b-449e-a8cb-5e6ca19877cc\">\n",
              "      Upload widget is only available when the cell has been executed in the\n",
              "      current browser session. Please rerun this cell to enable.\n",
              "      </output>\n",
              "      <script>// Copyright 2017 Google LLC\n",
              "//\n",
              "// Licensed under the Apache License, Version 2.0 (the \"License\");\n",
              "// you may not use this file except in compliance with the License.\n",
              "// You may obtain a copy of the License at\n",
              "//\n",
              "//      http://www.apache.org/licenses/LICENSE-2.0\n",
              "//\n",
              "// Unless required by applicable law or agreed to in writing, software\n",
              "// distributed under the License is distributed on an \"AS IS\" BASIS,\n",
              "// WITHOUT WARRANTIES OR CONDITIONS OF ANY KIND, either express or implied.\n",
              "// See the License for the specific language governing permissions and\n",
              "// limitations under the License.\n",
              "\n",
              "/**\n",
              " * @fileoverview Helpers for google.colab Python module.\n",
              " */\n",
              "(function(scope) {\n",
              "function span(text, styleAttributes = {}) {\n",
              "  const element = document.createElement('span');\n",
              "  element.textContent = text;\n",
              "  for (const key of Object.keys(styleAttributes)) {\n",
              "    element.style[key] = styleAttributes[key];\n",
              "  }\n",
              "  return element;\n",
              "}\n",
              "\n",
              "// Max number of bytes which will be uploaded at a time.\n",
              "const MAX_PAYLOAD_SIZE = 100 * 1024;\n",
              "\n",
              "function _uploadFiles(inputId, outputId) {\n",
              "  const steps = uploadFilesStep(inputId, outputId);\n",
              "  const outputElement = document.getElementById(outputId);\n",
              "  // Cache steps on the outputElement to make it available for the next call\n",
              "  // to uploadFilesContinue from Python.\n",
              "  outputElement.steps = steps;\n",
              "\n",
              "  return _uploadFilesContinue(outputId);\n",
              "}\n",
              "\n",
              "// This is roughly an async generator (not supported in the browser yet),\n",
              "// where there are multiple asynchronous steps and the Python side is going\n",
              "// to poll for completion of each step.\n",
              "// This uses a Promise to block the python side on completion of each step,\n",
              "// then passes the result of the previous step as the input to the next step.\n",
              "function _uploadFilesContinue(outputId) {\n",
              "  const outputElement = document.getElementById(outputId);\n",
              "  const steps = outputElement.steps;\n",
              "\n",
              "  const next = steps.next(outputElement.lastPromiseValue);\n",
              "  return Promise.resolve(next.value.promise).then((value) => {\n",
              "    // Cache the last promise value to make it available to the next\n",
              "    // step of the generator.\n",
              "    outputElement.lastPromiseValue = value;\n",
              "    return next.value.response;\n",
              "  });\n",
              "}\n",
              "\n",
              "/**\n",
              " * Generator function which is called between each async step of the upload\n",
              " * process.\n",
              " * @param {string} inputId Element ID of the input file picker element.\n",
              " * @param {string} outputId Element ID of the output display.\n",
              " * @return {!Iterable<!Object>} Iterable of next steps.\n",
              " */\n",
              "function* uploadFilesStep(inputId, outputId) {\n",
              "  const inputElement = document.getElementById(inputId);\n",
              "  inputElement.disabled = false;\n",
              "\n",
              "  const outputElement = document.getElementById(outputId);\n",
              "  outputElement.innerHTML = '';\n",
              "\n",
              "  const pickedPromise = new Promise((resolve) => {\n",
              "    inputElement.addEventListener('change', (e) => {\n",
              "      resolve(e.target.files);\n",
              "    });\n",
              "  });\n",
              "\n",
              "  const cancel = document.createElement('button');\n",
              "  inputElement.parentElement.appendChild(cancel);\n",
              "  cancel.textContent = 'Cancel upload';\n",
              "  const cancelPromise = new Promise((resolve) => {\n",
              "    cancel.onclick = () => {\n",
              "      resolve(null);\n",
              "    };\n",
              "  });\n",
              "\n",
              "  // Wait for the user to pick the files.\n",
              "  const files = yield {\n",
              "    promise: Promise.race([pickedPromise, cancelPromise]),\n",
              "    response: {\n",
              "      action: 'starting',\n",
              "    }\n",
              "  };\n",
              "\n",
              "  cancel.remove();\n",
              "\n",
              "  // Disable the input element since further picks are not allowed.\n",
              "  inputElement.disabled = true;\n",
              "\n",
              "  if (!files) {\n",
              "    return {\n",
              "      response: {\n",
              "        action: 'complete',\n",
              "      }\n",
              "    };\n",
              "  }\n",
              "\n",
              "  for (const file of files) {\n",
              "    const li = document.createElement('li');\n",
              "    li.append(span(file.name, {fontWeight: 'bold'}));\n",
              "    li.append(span(\n",
              "        `(${file.type || 'n/a'}) - ${file.size} bytes, ` +\n",
              "        `last modified: ${\n",
              "            file.lastModifiedDate ? file.lastModifiedDate.toLocaleDateString() :\n",
              "                                    'n/a'} - `));\n",
              "    const percent = span('0% done');\n",
              "    li.appendChild(percent);\n",
              "\n",
              "    outputElement.appendChild(li);\n",
              "\n",
              "    const fileDataPromise = new Promise((resolve) => {\n",
              "      const reader = new FileReader();\n",
              "      reader.onload = (e) => {\n",
              "        resolve(e.target.result);\n",
              "      };\n",
              "      reader.readAsArrayBuffer(file);\n",
              "    });\n",
              "    // Wait for the data to be ready.\n",
              "    let fileData = yield {\n",
              "      promise: fileDataPromise,\n",
              "      response: {\n",
              "        action: 'continue',\n",
              "      }\n",
              "    };\n",
              "\n",
              "    // Use a chunked sending to avoid message size limits. See b/62115660.\n",
              "    let position = 0;\n",
              "    do {\n",
              "      const length = Math.min(fileData.byteLength - position, MAX_PAYLOAD_SIZE);\n",
              "      const chunk = new Uint8Array(fileData, position, length);\n",
              "      position += length;\n",
              "\n",
              "      const base64 = btoa(String.fromCharCode.apply(null, chunk));\n",
              "      yield {\n",
              "        response: {\n",
              "          action: 'append',\n",
              "          file: file.name,\n",
              "          data: base64,\n",
              "        },\n",
              "      };\n",
              "\n",
              "      let percentDone = fileData.byteLength === 0 ?\n",
              "          100 :\n",
              "          Math.round((position / fileData.byteLength) * 100);\n",
              "      percent.textContent = `${percentDone}% done`;\n",
              "\n",
              "    } while (position < fileData.byteLength);\n",
              "  }\n",
              "\n",
              "  // All done.\n",
              "  yield {\n",
              "    response: {\n",
              "      action: 'complete',\n",
              "    }\n",
              "  };\n",
              "}\n",
              "\n",
              "scope.google = scope.google || {};\n",
              "scope.google.colab = scope.google.colab || {};\n",
              "scope.google.colab._files = {\n",
              "  _uploadFiles,\n",
              "  _uploadFilesContinue,\n",
              "};\n",
              "})(self);\n",
              "</script> "
            ],
            "text/plain": [
              "<IPython.core.display.HTML object>"
            ]
          },
          "metadata": {},
          "output_type": "display_data"
        },
        {
          "name": "stdout",
          "output_type": "stream",
          "text": [
            "Saving Museum_Training.zip to Museum_Training.zip\n",
            "Saving Museum_Test.zip to Museum_Test.zip\n"
          ]
        }
      ],
      "source": [
        "uploaded = files.upload()"
      ]
    },
    {
      "cell_type": "code",
      "execution_count": null,
      "metadata": {
        "colab": {
          "base_uri": "https://localhost:8080/"
        },
        "id": "YfozhDkT17Zq",
        "outputId": "12dc19a5-9e8e-4554-e55a-1089c047b0ea"
      },
      "outputs": [
        {
          "name": "stdout",
          "output_type": "stream",
          "text": [
            "['.config', 'Museum_Training.zip', 'Museum_Test.zip', 'sample_data']\n"
          ]
        }
      ],
      "source": [
        "import os\n",
        "\n",
        "# List all files in the current directory\n",
        "files = os.listdir()\n",
        "print(files)"
      ]
    },
    {
      "cell_type": "code",
      "execution_count": null,
      "metadata": {
        "id": "ef7X8OJq5mK2"
      },
      "outputs": [],
      "source": [
        "#unzip files\n",
        "import zipfile\n",
        "zip_file_path = 'Museum_Training.zip'  # Replace with the actual path to your zip file\n",
        "extraction_path = 'Museum_Training1'  # Replace with the desired extraction path\n",
        "\n",
        "zip_file_path2 = 'Museum_Test.zip'  # Replace with the actual path to your zip file\n",
        "extraction_path2 = 'Museum_Test1'  # Replace with the desired extraction path\n",
        "\n",
        "with zipfile.ZipFile(zip_file_path, 'r') as zip_ref:\n",
        "    zip_ref.extractall(extraction_path)\n",
        "\n",
        "with zipfile.ZipFile(zip_file_path2, 'r') as zip_ref:\n",
        "    zip_ref.extractall(extraction_path2)\n",
        "\n"
      ]
    },
    {
      "cell_type": "code",
      "execution_count": null,
      "metadata": {
        "colab": {
          "base_uri": "https://localhost:8080/"
        },
        "id": "Sh1zElsJ54cF",
        "outputId": "ca891bf6-70a0-44aa-fb69-f44cbb5f6826"
      },
      "outputs": [
        {
          "name": "stdout",
          "output_type": "stream",
          "text": [
            "['.config', 'Museum_Training.zip', 'Museum_Test (1).zip', 'Museum_Training1', 'Museum_Training (1).zip', 'Museum_Test1', 'Museum_Test.zip', 'sample_data']\n"
          ]
        }
      ],
      "source": [
        "files = os.listdir()\n",
        "print(files)"
      ]
    },
    {
      "cell_type": "code",
      "execution_count": null,
      "metadata": {
        "colab": {
          "base_uri": "https://localhost:8080/"
        },
        "id": "Hje0fiqO6ymC",
        "outputId": "04b22501-fc69-4470-8f23-8d57ed914762"
      },
      "outputs": [
        {
          "name": "stdout",
          "output_type": "stream",
          "text": [
            "['Training']\n"
          ]
        }
      ],
      "source": [
        "def list_subdirectories(directory):\n",
        "    \"\"\"Lists all subdirectories within a given directory.\"\"\"\n",
        "    subdirectories = [f for f in os.listdir(directory) if os.path.isdir(os.path.join(directory, f))]\n",
        "    return subdirectories\n",
        "\n",
        "# Example usage:\n",
        "root_directory = 'Museum_Training1'  # Replace with your desired directory\n",
        "subdirs = list_subdirectories(root_directory)\n",
        "print(subdirs)"
      ]
    },
    {
      "cell_type": "code",
      "execution_count": null,
      "metadata": {
        "id": "hcBYv_NQ4X5X"
      },
      "outputs": [],
      "source": [
        "import os\n",
        "import cv2 # Or any image processing library you prefer\n",
        "import numpy as np\n",
        "\n",
        "def load_images_from_folder(folder_path):\n",
        "    \"\"\"\n",
        "    Loads images from a folder and returns them as a list of NumPy arrays.\n",
        "\n",
        "    Args:\n",
        "        folder_path (str): Path to the folder containing the images.\n",
        "\n",
        "    Returns:\n",
        "        list: A list of NumPy arrays, where each array represents an image.\n",
        "    \"\"\"\n",
        "    images = []\n",
        "    labels = []\n",
        "    for filename in os.listdir(folder_path):\n",
        "        img = cv2.imread(os.path.join(folder_path,filename))\n",
        "        if img is not None:\n",
        "            images.append(img)\n",
        "            # Assuming folder name represents the label (e.g., \"indoor\" or \"outdoor\")\n",
        "            labels.append(os.path.basename(folder_path))\n",
        "    return images, labels\n",
        "\n",
        "# Load images from both folders\n",
        "indoor_images, indoor_labels = load_images_from_folder('Museum_Training1/Training/museum-indoor')\n",
        "outdoor_images, outdoor_labels = load_images_from_folder('Museum_Training1/Training/museum-outdoor')\n",
        "\n",
        "# Combine images and labels from both folders\n",
        "all_images = indoor_images + outdoor_images\n",
        "all_labels = indoor_labels + outdoor_labels\n",
        "\n",
        "# Convert labels to numerical values (e.g., 0 for indoor, 1 for outdoor)\n",
        "# ... (You'll need to define your label encoding logic here)"
      ]
    },
    {
      "cell_type": "code",
      "execution_count": null,
      "metadata": {
        "id": "yjcMA2-P4PAL"
      },
      "outputs": [],
      "source": []
    },
    {
      "cell_type": "code",
      "execution_count": null,
      "metadata": {
        "id": "WJIgGxLeB7_D"
      },
      "outputs": [],
      "source": [
        "import os\n",
        "import cv2  # Or any image processing library you prefer\n",
        "import numpy as np\n",
        "\n",
        "def load_images_from_folder(folder_path, label):\n",
        "    \"\"\"Loads images from a folder and returns them as a list of NumPy arrays.\"\"\"\n",
        "    images = []\n",
        "    labels = []\n",
        "    for filename in os.listdir(folder_path):\n",
        "        img = cv2.imread(os.path.join(folder_path, filename))\n",
        "        if img is not None:\n",
        "            # Resize the image to a consistent size\n",
        "            img = cv2.resize(img, (64, 64))  # Example: Resize to 64x64 pixels\n",
        "            # Flatten the image into a 1D array\n",
        "            img = img.flatten()\n",
        "            images.append(img)\n",
        "            labels.append(label)  # Assign the specified label to each image\n",
        "    return images, labels\n",
        "\n",
        "# Load training images\n",
        "train_indoor_images, train_indoor_labels = load_images_from_folder('Museum_Training1/Training/museum-indoor', 0)  # Label 0 for indoor\n",
        "train_outdoor_images, train_outdoor_labels = load_images_from_folder('Museum_Training1/Training/museum-outdoor', 1)  # Label 1 for outdoor\n",
        "\n",
        "# Load testing images\n",
        "test_indoor_images, test_indoor_labels = load_images_from_folder('Museum_Test1/Museum_Validation/museum-indoor', 0)  # Label 0 for indoor\n",
        "test_outdoor_images, test_outdoor_labels = load_images_from_folder('Museum_Test1/Museum_Validation/museum-outdoor', 1)  # Label 1 for outdoor\n",
        "\n",
        "# Combine training images and labels\n",
        "X_train = train_indoor_images + train_outdoor_images\n",
        "y_train = train_indoor_labels + train_outdoor_labels\n",
        "\n",
        "# Combine testing images and labels\n",
        "X_test = test_indoor_images + test_outdoor_images\n",
        "y_test = test_indoor_labels + test_outdoor_labels\n",
        "\n",
        "# Convert lists to NumPy arrays\n",
        "X_train = np.array(X_train)\n",
        "X_test = np.array(X_test)\n",
        "y_train = np.array(y_train)\n",
        "y_test = np.array(y_test)"
      ]
    },
    {
      "cell_type": "code",
      "execution_count": null,
      "metadata": {
        "colab": {
          "base_uri": "https://localhost:8080/"
        },
        "id": "sfnLWFss7Qps",
        "outputId": "0c403703-bba2-40e1-8373-77e52b5053eb"
      },
      "outputs": [
        {
          "data": {
            "text/plain": [
              "array([0, 0, 0, 0, 0, 0, 0, 0, 0, 0, 0, 0, 0, 0, 0, 0, 0, 0, 0, 0, 0, 0,\n",
              "       0, 0, 0, 0, 0, 0, 0, 0, 0, 0, 0, 0, 0, 0, 0, 0, 0, 0, 0, 0, 0, 0,\n",
              "       0, 0, 0, 0, 0, 0, 0, 0, 0, 0, 0, 0, 0, 0, 0, 0, 0, 0, 0, 0, 0, 0,\n",
              "       0, 0, 0, 0, 0, 0, 0, 0, 0, 0, 0, 0, 0, 0, 0, 0, 0, 0, 0, 0, 0, 0,\n",
              "       0, 0, 0, 0, 0, 0, 0, 0, 0, 0, 0, 0, 1, 1, 1, 1, 1, 1, 1, 1, 1, 1,\n",
              "       1, 1, 1, 1, 1, 1, 1, 1, 1, 1, 1, 1, 1, 1, 1, 1, 1, 1, 1, 1, 1, 1,\n",
              "       1, 1, 1, 1, 1, 1, 1, 1, 1, 1, 1, 1, 1, 1, 1, 1, 1, 1, 1, 1, 1, 1,\n",
              "       1, 1, 1, 1, 1, 1, 1, 1, 1, 1, 1, 1, 1, 1, 1, 1, 1, 1, 1, 1, 1, 1,\n",
              "       1, 1, 1, 1, 1, 1, 1, 1, 1, 1, 1, 1, 1, 1, 1, 1, 1, 1, 1, 1, 1, 1,\n",
              "       1, 1])"
            ]
          },
          "execution_count": 12,
          "metadata": {},
          "output_type": "execute_result"
        }
      ],
      "source": [
        "y_test"
      ]
    },
    {
      "cell_type": "code",
      "execution_count": null,
      "metadata": {
        "colab": {
          "base_uri": "https://localhost:8080/",
          "height": 367
        },
        "id": "-Um6s1QY_ngO",
        "outputId": "de16aeb4-03b8-45bc-c413-7ceb01563b91"
      },
      "outputs": [
        {
          "ename": "KeyboardInterrupt",
          "evalue": "",
          "output_type": "error",
          "traceback": [
            "\u001b[0;31m---------------------------------------------------------------------------\u001b[0m",
            "\u001b[0;31mKeyboardInterrupt\u001b[0m                         Traceback (most recent call last)",
            "\u001b[0;32m<ipython-input-36-ca0c9c448a3a>\u001b[0m in \u001b[0;36m<cell line: 0>\u001b[0;34m()\u001b[0m\n\u001b[1;32m     19\u001b[0m }\n\u001b[1;32m     20\u001b[0m \u001b[0mgrid_search\u001b[0m \u001b[0;34m=\u001b[0m \u001b[0mGridSearchCV\u001b[0m\u001b[0;34m(\u001b[0m\u001b[0mmodel\u001b[0m\u001b[0;34m,\u001b[0m \u001b[0mparam_grid\u001b[0m\u001b[0;34m,\u001b[0m \u001b[0mcv\u001b[0m\u001b[0;34m=\u001b[0m\u001b[0;36m5\u001b[0m\u001b[0;34m,\u001b[0m \u001b[0mscoring\u001b[0m\u001b[0;34m=\u001b[0m\u001b[0;34m'accuracy'\u001b[0m\u001b[0;34m)\u001b[0m  \u001b[0;31m# Use accuracy for scoring\u001b[0m\u001b[0;34m\u001b[0m\u001b[0;34m\u001b[0m\u001b[0m\n\u001b[0;32m---> 21\u001b[0;31m \u001b[0mgrid_search\u001b[0m\u001b[0;34m.\u001b[0m\u001b[0mfit\u001b[0m\u001b[0;34m(\u001b[0m\u001b[0mX_train\u001b[0m\u001b[0;34m,\u001b[0m \u001b[0my_train\u001b[0m\u001b[0;34m)\u001b[0m\u001b[0;34m\u001b[0m\u001b[0;34m\u001b[0m\u001b[0m\n\u001b[0m\u001b[1;32m     22\u001b[0m \u001b[0mbest_model\u001b[0m \u001b[0;34m=\u001b[0m \u001b[0mgrid_search\u001b[0m\u001b[0;34m.\u001b[0m\u001b[0mbest_estimator_\u001b[0m\u001b[0;34m\u001b[0m\u001b[0;34m\u001b[0m\u001b[0m\n\u001b[1;32m     23\u001b[0m \u001b[0;34m\u001b[0m\u001b[0m\n",
            "\u001b[0;32m/usr/local/lib/python3.11/dist-packages/sklearn/base.py\u001b[0m in \u001b[0;36mwrapper\u001b[0;34m(estimator, *args, **kwargs)\u001b[0m\n\u001b[1;32m   1387\u001b[0m                 )\n\u001b[1;32m   1388\u001b[0m             ):\n\u001b[0;32m-> 1389\u001b[0;31m                 \u001b[0;32mreturn\u001b[0m \u001b[0mfit_method\u001b[0m\u001b[0;34m(\u001b[0m\u001b[0mestimator\u001b[0m\u001b[0;34m,\u001b[0m \u001b[0;34m*\u001b[0m\u001b[0margs\u001b[0m\u001b[0;34m,\u001b[0m \u001b[0;34m**\u001b[0m\u001b[0mkwargs\u001b[0m\u001b[0;34m)\u001b[0m\u001b[0;34m\u001b[0m\u001b[0;34m\u001b[0m\u001b[0m\n\u001b[0m\u001b[1;32m   1390\u001b[0m \u001b[0;34m\u001b[0m\u001b[0m\n\u001b[1;32m   1391\u001b[0m         \u001b[0;32mreturn\u001b[0m \u001b[0mwrapper\u001b[0m\u001b[0;34m\u001b[0m\u001b[0;34m\u001b[0m\u001b[0m\n",
            "\u001b[0;32m/usr/local/lib/python3.11/dist-packages/sklearn/model_selection/_search.py\u001b[0m in \u001b[0;36mfit\u001b[0;34m(self, X, y, **params)\u001b[0m\n\u001b[1;32m   1022\u001b[0m                 \u001b[0;32mreturn\u001b[0m \u001b[0mresults\u001b[0m\u001b[0;34m\u001b[0m\u001b[0;34m\u001b[0m\u001b[0m\n\u001b[1;32m   1023\u001b[0m \u001b[0;34m\u001b[0m\u001b[0m\n\u001b[0;32m-> 1024\u001b[0;31m             \u001b[0mself\u001b[0m\u001b[0;34m.\u001b[0m\u001b[0m_run_search\u001b[0m\u001b[0;34m(\u001b[0m\u001b[0mevaluate_candidates\u001b[0m\u001b[0;34m)\u001b[0m\u001b[0;34m\u001b[0m\u001b[0;34m\u001b[0m\u001b[0m\n\u001b[0m\u001b[1;32m   1025\u001b[0m \u001b[0;34m\u001b[0m\u001b[0m\n\u001b[1;32m   1026\u001b[0m             \u001b[0;31m# multimetric is determined here because in the case of a callable\u001b[0m\u001b[0;34m\u001b[0m\u001b[0;34m\u001b[0m\u001b[0m\n",
            "\u001b[0;32m/usr/local/lib/python3.11/dist-packages/sklearn/model_selection/_search.py\u001b[0m in \u001b[0;36m_run_search\u001b[0;34m(self, evaluate_candidates)\u001b[0m\n\u001b[1;32m   1569\u001b[0m     \u001b[0;32mdef\u001b[0m \u001b[0m_run_search\u001b[0m\u001b[0;34m(\u001b[0m\u001b[0mself\u001b[0m\u001b[0;34m,\u001b[0m \u001b[0mevaluate_candidates\u001b[0m\u001b[0;34m)\u001b[0m\u001b[0;34m:\u001b[0m\u001b[0;34m\u001b[0m\u001b[0;34m\u001b[0m\u001b[0m\n\u001b[1;32m   1570\u001b[0m         \u001b[0;34m\"\"\"Search all candidates in param_grid\"\"\"\u001b[0m\u001b[0;34m\u001b[0m\u001b[0;34m\u001b[0m\u001b[0m\n\u001b[0;32m-> 1571\u001b[0;31m         \u001b[0mevaluate_candidates\u001b[0m\u001b[0;34m(\u001b[0m\u001b[0mParameterGrid\u001b[0m\u001b[0;34m(\u001b[0m\u001b[0mself\u001b[0m\u001b[0;34m.\u001b[0m\u001b[0mparam_grid\u001b[0m\u001b[0;34m)\u001b[0m\u001b[0;34m)\u001b[0m\u001b[0;34m\u001b[0m\u001b[0;34m\u001b[0m\u001b[0m\n\u001b[0m\u001b[1;32m   1572\u001b[0m \u001b[0;34m\u001b[0m\u001b[0m\n\u001b[1;32m   1573\u001b[0m \u001b[0;34m\u001b[0m\u001b[0m\n",
            "\u001b[0;32m/usr/local/lib/python3.11/dist-packages/sklearn/model_selection/_search.py\u001b[0m in \u001b[0;36mevaluate_candidates\u001b[0;34m(candidate_params, cv, more_results)\u001b[0m\n\u001b[1;32m    968\u001b[0m                     )\n\u001b[1;32m    969\u001b[0m \u001b[0;34m\u001b[0m\u001b[0m\n\u001b[0;32m--> 970\u001b[0;31m                 out = parallel(\n\u001b[0m\u001b[1;32m    971\u001b[0m                     delayed(_fit_and_score)(\n\u001b[1;32m    972\u001b[0m                         \u001b[0mclone\u001b[0m\u001b[0;34m(\u001b[0m\u001b[0mbase_estimator\u001b[0m\u001b[0;34m)\u001b[0m\u001b[0;34m,\u001b[0m\u001b[0;34m\u001b[0m\u001b[0;34m\u001b[0m\u001b[0m\n",
            "\u001b[0;32m/usr/local/lib/python3.11/dist-packages/sklearn/utils/parallel.py\u001b[0m in \u001b[0;36m__call__\u001b[0;34m(self, iterable)\u001b[0m\n\u001b[1;32m     75\u001b[0m             \u001b[0;32mfor\u001b[0m \u001b[0mdelayed_func\u001b[0m\u001b[0;34m,\u001b[0m \u001b[0margs\u001b[0m\u001b[0;34m,\u001b[0m \u001b[0mkwargs\u001b[0m \u001b[0;32min\u001b[0m \u001b[0miterable\u001b[0m\u001b[0;34m\u001b[0m\u001b[0;34m\u001b[0m\u001b[0m\n\u001b[1;32m     76\u001b[0m         )\n\u001b[0;32m---> 77\u001b[0;31m         \u001b[0;32mreturn\u001b[0m \u001b[0msuper\u001b[0m\u001b[0;34m(\u001b[0m\u001b[0;34m)\u001b[0m\u001b[0;34m.\u001b[0m\u001b[0m__call__\u001b[0m\u001b[0;34m(\u001b[0m\u001b[0miterable_with_config\u001b[0m\u001b[0;34m)\u001b[0m\u001b[0;34m\u001b[0m\u001b[0;34m\u001b[0m\u001b[0m\n\u001b[0m\u001b[1;32m     78\u001b[0m \u001b[0;34m\u001b[0m\u001b[0m\n\u001b[1;32m     79\u001b[0m \u001b[0;34m\u001b[0m\u001b[0m\n",
            "\u001b[0;32m/usr/local/lib/python3.11/dist-packages/joblib/parallel.py\u001b[0m in \u001b[0;36m__call__\u001b[0;34m(self, iterable)\u001b[0m\n\u001b[1;32m   1916\u001b[0m             \u001b[0moutput\u001b[0m \u001b[0;34m=\u001b[0m \u001b[0mself\u001b[0m\u001b[0;34m.\u001b[0m\u001b[0m_get_sequential_output\u001b[0m\u001b[0;34m(\u001b[0m\u001b[0miterable\u001b[0m\u001b[0;34m)\u001b[0m\u001b[0;34m\u001b[0m\u001b[0;34m\u001b[0m\u001b[0m\n\u001b[1;32m   1917\u001b[0m             \u001b[0mnext\u001b[0m\u001b[0;34m(\u001b[0m\u001b[0moutput\u001b[0m\u001b[0;34m)\u001b[0m\u001b[0;34m\u001b[0m\u001b[0;34m\u001b[0m\u001b[0m\n\u001b[0;32m-> 1918\u001b[0;31m             \u001b[0;32mreturn\u001b[0m \u001b[0moutput\u001b[0m \u001b[0;32mif\u001b[0m \u001b[0mself\u001b[0m\u001b[0;34m.\u001b[0m\u001b[0mreturn_generator\u001b[0m \u001b[0;32melse\u001b[0m \u001b[0mlist\u001b[0m\u001b[0;34m(\u001b[0m\u001b[0moutput\u001b[0m\u001b[0;34m)\u001b[0m\u001b[0;34m\u001b[0m\u001b[0;34m\u001b[0m\u001b[0m\n\u001b[0m\u001b[1;32m   1919\u001b[0m \u001b[0;34m\u001b[0m\u001b[0m\n\u001b[1;32m   1920\u001b[0m         \u001b[0;31m# Let's create an ID that uniquely identifies the current call. If the\u001b[0m\u001b[0;34m\u001b[0m\u001b[0;34m\u001b[0m\u001b[0m\n",
            "\u001b[0;32m/usr/local/lib/python3.11/dist-packages/joblib/parallel.py\u001b[0m in \u001b[0;36m_get_sequential_output\u001b[0;34m(self, iterable)\u001b[0m\n\u001b[1;32m   1845\u001b[0m                 \u001b[0mself\u001b[0m\u001b[0;34m.\u001b[0m\u001b[0mn_dispatched_batches\u001b[0m \u001b[0;34m+=\u001b[0m \u001b[0;36m1\u001b[0m\u001b[0;34m\u001b[0m\u001b[0;34m\u001b[0m\u001b[0m\n\u001b[1;32m   1846\u001b[0m                 \u001b[0mself\u001b[0m\u001b[0;34m.\u001b[0m\u001b[0mn_dispatched_tasks\u001b[0m \u001b[0;34m+=\u001b[0m \u001b[0;36m1\u001b[0m\u001b[0;34m\u001b[0m\u001b[0;34m\u001b[0m\u001b[0m\n\u001b[0;32m-> 1847\u001b[0;31m                 \u001b[0mres\u001b[0m \u001b[0;34m=\u001b[0m \u001b[0mfunc\u001b[0m\u001b[0;34m(\u001b[0m\u001b[0;34m*\u001b[0m\u001b[0margs\u001b[0m\u001b[0;34m,\u001b[0m \u001b[0;34m**\u001b[0m\u001b[0mkwargs\u001b[0m\u001b[0;34m)\u001b[0m\u001b[0;34m\u001b[0m\u001b[0;34m\u001b[0m\u001b[0m\n\u001b[0m\u001b[1;32m   1848\u001b[0m                 \u001b[0mself\u001b[0m\u001b[0;34m.\u001b[0m\u001b[0mn_completed_tasks\u001b[0m \u001b[0;34m+=\u001b[0m \u001b[0;36m1\u001b[0m\u001b[0;34m\u001b[0m\u001b[0;34m\u001b[0m\u001b[0m\n\u001b[1;32m   1849\u001b[0m                 \u001b[0mself\u001b[0m\u001b[0;34m.\u001b[0m\u001b[0mprint_progress\u001b[0m\u001b[0;34m(\u001b[0m\u001b[0;34m)\u001b[0m\u001b[0;34m\u001b[0m\u001b[0;34m\u001b[0m\u001b[0m\n",
            "\u001b[0;32m/usr/local/lib/python3.11/dist-packages/sklearn/utils/parallel.py\u001b[0m in \u001b[0;36m__call__\u001b[0;34m(self, *args, **kwargs)\u001b[0m\n\u001b[1;32m    137\u001b[0m             \u001b[0mconfig\u001b[0m \u001b[0;34m=\u001b[0m \u001b[0;34m{\u001b[0m\u001b[0;34m}\u001b[0m\u001b[0;34m\u001b[0m\u001b[0;34m\u001b[0m\u001b[0m\n\u001b[1;32m    138\u001b[0m         \u001b[0;32mwith\u001b[0m \u001b[0mconfig_context\u001b[0m\u001b[0;34m(\u001b[0m\u001b[0;34m**\u001b[0m\u001b[0mconfig\u001b[0m\u001b[0;34m)\u001b[0m\u001b[0;34m:\u001b[0m\u001b[0;34m\u001b[0m\u001b[0;34m\u001b[0m\u001b[0m\n\u001b[0;32m--> 139\u001b[0;31m             \u001b[0;32mreturn\u001b[0m \u001b[0mself\u001b[0m\u001b[0;34m.\u001b[0m\u001b[0mfunction\u001b[0m\u001b[0;34m(\u001b[0m\u001b[0;34m*\u001b[0m\u001b[0margs\u001b[0m\u001b[0;34m,\u001b[0m \u001b[0;34m**\u001b[0m\u001b[0mkwargs\u001b[0m\u001b[0;34m)\u001b[0m\u001b[0;34m\u001b[0m\u001b[0;34m\u001b[0m\u001b[0m\n\u001b[0m\u001b[1;32m    140\u001b[0m \u001b[0;34m\u001b[0m\u001b[0m\n\u001b[1;32m    141\u001b[0m \u001b[0;34m\u001b[0m\u001b[0m\n",
            "\u001b[0;32m/usr/local/lib/python3.11/dist-packages/sklearn/model_selection/_validation.py\u001b[0m in \u001b[0;36m_fit_and_score\u001b[0;34m(estimator, X, y, scorer, train, test, verbose, parameters, fit_params, score_params, return_train_score, return_parameters, return_n_test_samples, return_times, return_estimator, split_progress, candidate_progress, error_score)\u001b[0m\n\u001b[1;32m    864\u001b[0m             \u001b[0mestimator\u001b[0m\u001b[0;34m.\u001b[0m\u001b[0mfit\u001b[0m\u001b[0;34m(\u001b[0m\u001b[0mX_train\u001b[0m\u001b[0;34m,\u001b[0m \u001b[0;34m**\u001b[0m\u001b[0mfit_params\u001b[0m\u001b[0;34m)\u001b[0m\u001b[0;34m\u001b[0m\u001b[0;34m\u001b[0m\u001b[0m\n\u001b[1;32m    865\u001b[0m         \u001b[0;32melse\u001b[0m\u001b[0;34m:\u001b[0m\u001b[0;34m\u001b[0m\u001b[0;34m\u001b[0m\u001b[0m\n\u001b[0;32m--> 866\u001b[0;31m             \u001b[0mestimator\u001b[0m\u001b[0;34m.\u001b[0m\u001b[0mfit\u001b[0m\u001b[0;34m(\u001b[0m\u001b[0mX_train\u001b[0m\u001b[0;34m,\u001b[0m \u001b[0my_train\u001b[0m\u001b[0;34m,\u001b[0m \u001b[0;34m**\u001b[0m\u001b[0mfit_params\u001b[0m\u001b[0;34m)\u001b[0m\u001b[0;34m\u001b[0m\u001b[0;34m\u001b[0m\u001b[0m\n\u001b[0m\u001b[1;32m    867\u001b[0m \u001b[0;34m\u001b[0m\u001b[0m\n\u001b[1;32m    868\u001b[0m     \u001b[0;32mexcept\u001b[0m \u001b[0mException\u001b[0m\u001b[0;34m:\u001b[0m\u001b[0;34m\u001b[0m\u001b[0;34m\u001b[0m\u001b[0m\n",
            "\u001b[0;32m/usr/local/lib/python3.11/dist-packages/sklearn/base.py\u001b[0m in \u001b[0;36mwrapper\u001b[0;34m(estimator, *args, **kwargs)\u001b[0m\n\u001b[1;32m   1387\u001b[0m                 )\n\u001b[1;32m   1388\u001b[0m             ):\n\u001b[0;32m-> 1389\u001b[0;31m                 \u001b[0;32mreturn\u001b[0m \u001b[0mfit_method\u001b[0m\u001b[0;34m(\u001b[0m\u001b[0mestimator\u001b[0m\u001b[0;34m,\u001b[0m \u001b[0;34m*\u001b[0m\u001b[0margs\u001b[0m\u001b[0;34m,\u001b[0m \u001b[0;34m**\u001b[0m\u001b[0mkwargs\u001b[0m\u001b[0;34m)\u001b[0m\u001b[0;34m\u001b[0m\u001b[0;34m\u001b[0m\u001b[0m\n\u001b[0m\u001b[1;32m   1390\u001b[0m \u001b[0;34m\u001b[0m\u001b[0m\n\u001b[1;32m   1391\u001b[0m         \u001b[0;32mreturn\u001b[0m \u001b[0mwrapper\u001b[0m\u001b[0;34m\u001b[0m\u001b[0;34m\u001b[0m\u001b[0m\n",
            "\u001b[0;32m/usr/local/lib/python3.11/dist-packages/sklearn/tree/_classes.py\u001b[0m in \u001b[0;36mfit\u001b[0;34m(self, X, y, sample_weight, check_input)\u001b[0m\n\u001b[1;32m   1022\u001b[0m         \"\"\"\n\u001b[1;32m   1023\u001b[0m \u001b[0;34m\u001b[0m\u001b[0m\n\u001b[0;32m-> 1024\u001b[0;31m         super()._fit(\n\u001b[0m\u001b[1;32m   1025\u001b[0m             \u001b[0mX\u001b[0m\u001b[0;34m,\u001b[0m\u001b[0;34m\u001b[0m\u001b[0;34m\u001b[0m\u001b[0m\n\u001b[1;32m   1026\u001b[0m             \u001b[0my\u001b[0m\u001b[0;34m,\u001b[0m\u001b[0;34m\u001b[0m\u001b[0;34m\u001b[0m\u001b[0m\n",
            "\u001b[0;32m/usr/local/lib/python3.11/dist-packages/sklearn/tree/_classes.py\u001b[0m in \u001b[0;36m_fit\u001b[0;34m(self, X, y, sample_weight, check_input, missing_values_in_feature_mask)\u001b[0m\n\u001b[1;32m    470\u001b[0m             )\n\u001b[1;32m    471\u001b[0m \u001b[0;34m\u001b[0m\u001b[0m\n\u001b[0;32m--> 472\u001b[0;31m         \u001b[0mbuilder\u001b[0m\u001b[0;34m.\u001b[0m\u001b[0mbuild\u001b[0m\u001b[0;34m(\u001b[0m\u001b[0mself\u001b[0m\u001b[0;34m.\u001b[0m\u001b[0mtree_\u001b[0m\u001b[0;34m,\u001b[0m \u001b[0mX\u001b[0m\u001b[0;34m,\u001b[0m \u001b[0my\u001b[0m\u001b[0;34m,\u001b[0m \u001b[0msample_weight\u001b[0m\u001b[0;34m,\u001b[0m \u001b[0mmissing_values_in_feature_mask\u001b[0m\u001b[0;34m)\u001b[0m\u001b[0;34m\u001b[0m\u001b[0;34m\u001b[0m\u001b[0m\n\u001b[0m\u001b[1;32m    473\u001b[0m \u001b[0;34m\u001b[0m\u001b[0m\n\u001b[1;32m    474\u001b[0m         \u001b[0;32mif\u001b[0m \u001b[0mself\u001b[0m\u001b[0;34m.\u001b[0m\u001b[0mn_outputs_\u001b[0m \u001b[0;34m==\u001b[0m \u001b[0;36m1\u001b[0m \u001b[0;32mand\u001b[0m \u001b[0mis_classifier\u001b[0m\u001b[0;34m(\u001b[0m\u001b[0mself\u001b[0m\u001b[0;34m)\u001b[0m\u001b[0;34m:\u001b[0m\u001b[0;34m\u001b[0m\u001b[0;34m\u001b[0m\u001b[0m\n",
            "\u001b[0;31mKeyboardInterrupt\u001b[0m: "
          ]
        }
      ],
      "source": [
        "from sklearn.model_selection import train_test_split, GridSearchCV\n",
        "from sklearn.tree import DecisionTreeClassifier, plot_tree\n",
        "from sklearn.metrics import accuracy_score\n",
        "import numpy as np\n",
        "\n",
        "# ... (Your load_images_from_folder function remains the same) ...\n",
        "\n",
        "# Load and preprocess data\n",
        "# ... (Your data loading and preprocessing code remains the same) ...\n",
        "\n",
        "# Instantiate model\n",
        "model = DecisionTreeClassifier()\n",
        "\n",
        "# Hyperparameter tuning (example)\n",
        "param_grid = {\n",
        "    'max_depth': [3, 5, 7, 10],  # Explore a wider range of depths\n",
        "    'min_samples_split': [2, 5, 10, 20],  # Explore more options\n",
        "    'criterion': ['gini', 'entropy'],  # Try different splitting criteria\n",
        "}\n",
        "grid_search = GridSearchCV(model, param_grid, cv=5, scoring='accuracy')  # Use accuracy for scoring\n",
        "grid_search.fit(X_train, y_train)\n",
        "best_model = grid_search.best_estimator_\n",
        "\n",
        "# Train model\n",
        "best_model.fit(X_train, y_train)\n",
        "\n",
        "# Make predictions\n",
        "y_pred = best_model.predict(X_test)\n",
        "\n",
        "# Evaluate model\n",
        "accuracy = accuracy_score(y_test, y_pred)\n",
        "print(f\"Accuracy: {accuracy}\")\n",
        "\n",
        "# Visualize the tree\n",
        "plot_tree(best_model)"
      ]
    },
    {
      "cell_type": "code",
      "execution_count": null,
      "metadata": {
        "colab": {
          "base_uri": "https://localhost:8080/"
        },
        "id": "UD6jzHvfKlPB",
        "outputId": "cbc62372-b87a-4aba-e198-9ae2a720acdd"
      },
      "outputs": [
        {
          "data": {
            "text/plain": [
              "array([[241, 231, 217, ..., 118, 143, 139],\n",
              "       [205, 193, 219, ...,  70,  69, 101],\n",
              "       [130, 137, 146, ..., 238, 237, 233],\n",
              "       ...,\n",
              "       [209, 197, 185, ...,  29,  77,  55],\n",
              "       [197, 193, 192, ...,  88, 107, 124],\n",
              "       [165,  92,   0, ...,  42,  13,   3]], dtype=uint8)"
            ]
          },
          "execution_count": 55,
          "metadata": {},
          "output_type": "execute_result"
        }
      ],
      "source": [
        "X_test"
      ]
    },
    {
      "cell_type": "code",
      "execution_count": null,
      "metadata": {
        "colab": {
          "base_uri": "https://localhost:8080/",
          "height": 1000
        },
        "id": "4EYxmmi6HnwN",
        "outputId": "659391dd-54e8-4208-9fd7-069129b5b4ae"
      },
      "outputs": [
        {
          "name": "stdout",
          "output_type": "stream",
          "text": [
            "Requirement already satisfied: tqdm in /usr/local/lib/python3.11/dist-packages (4.67.1)\n",
            "Fitting 5 folds for each of 32 candidates, totalling 160 fits\n",
            "[CV] END ...criterion=gini, max_depth=3, min_samples_split=2; total time=  22.7s\n",
            "[CV] END ...criterion=gini, max_depth=3, min_samples_split=2; total time=  23.3s\n",
            "[CV] END ...criterion=gini, max_depth=3, min_samples_split=2; total time=  22.2s\n",
            "[CV] END ...criterion=gini, max_depth=3, min_samples_split=2; total time=  22.1s\n",
            "[CV] END ...criterion=gini, max_depth=3, min_samples_split=2; total time=  22.5s\n",
            "[CV] END ...criterion=gini, max_depth=3, min_samples_split=5; total time=  22.1s\n",
            "[CV] END ...criterion=gini, max_depth=3, min_samples_split=5; total time=  22.0s\n",
            "[CV] END ...criterion=gini, max_depth=3, min_samples_split=5; total time=  22.0s\n",
            "[CV] END ...criterion=gini, max_depth=3, min_samples_split=5; total time=  22.1s\n",
            "[CV] END ...criterion=gini, max_depth=3, min_samples_split=5; total time=  22.3s\n",
            "[CV] END ..criterion=gini, max_depth=3, min_samples_split=10; total time=  22.2s\n",
            "[CV] END ..criterion=gini, max_depth=3, min_samples_split=10; total time=  22.0s\n",
            "[CV] END ..criterion=gini, max_depth=3, min_samples_split=10; total time=  22.1s\n",
            "[CV] END ..criterion=gini, max_depth=3, min_samples_split=10; total time=  22.0s\n",
            "[CV] END ..criterion=gini, max_depth=3, min_samples_split=10; total time=  22.0s\n",
            "[CV] END ..criterion=gini, max_depth=3, min_samples_split=20; total time=  21.9s\n",
            "[CV] END ..criterion=gini, max_depth=3, min_samples_split=20; total time=  22.1s\n",
            "[CV] END ..criterion=gini, max_depth=3, min_samples_split=20; total time=  21.9s\n",
            "[CV] END ..criterion=gini, max_depth=3, min_samples_split=20; total time=  21.9s\n",
            "[CV] END ..criterion=gini, max_depth=3, min_samples_split=20; total time=  22.1s\n",
            "[CV] END ...criterion=gini, max_depth=5, min_samples_split=2; total time=  37.8s\n",
            "[CV] END ...criterion=gini, max_depth=5, min_samples_split=2; total time=  37.7s\n",
            "[CV] END ...criterion=gini, max_depth=5, min_samples_split=2; total time=  37.5s\n",
            "[CV] END ...criterion=gini, max_depth=5, min_samples_split=2; total time=  38.2s\n",
            "[CV] END ...criterion=gini, max_depth=5, min_samples_split=2; total time=  38.3s\n",
            "[CV] END ...criterion=gini, max_depth=5, min_samples_split=5; total time=  37.5s\n",
            "[CV] END ...criterion=gini, max_depth=5, min_samples_split=5; total time=  37.6s\n",
            "[CV] END ...criterion=gini, max_depth=5, min_samples_split=5; total time=  37.6s\n",
            "[CV] END ...criterion=gini, max_depth=5, min_samples_split=5; total time=  37.9s\n",
            "[CV] END ...criterion=gini, max_depth=5, min_samples_split=5; total time=  37.6s\n",
            "[CV] END ..criterion=gini, max_depth=5, min_samples_split=10; total time=  37.4s\n",
            "[CV] END ..criterion=gini, max_depth=5, min_samples_split=10; total time=  37.6s\n",
            "[CV] END ..criterion=gini, max_depth=5, min_samples_split=10; total time=  37.8s\n",
            "[CV] END ..criterion=gini, max_depth=5, min_samples_split=10; total time=  37.5s\n",
            "[CV] END ..criterion=gini, max_depth=5, min_samples_split=10; total time=  37.5s\n",
            "[CV] END ..criterion=gini, max_depth=5, min_samples_split=20; total time=  37.5s\n",
            "[CV] END ..criterion=gini, max_depth=5, min_samples_split=20; total time=  37.8s\n",
            "[CV] END ..criterion=gini, max_depth=5, min_samples_split=20; total time=  37.5s\n",
            "[CV] END ..criterion=gini, max_depth=5, min_samples_split=20; total time=  37.5s\n",
            "[CV] END ..criterion=gini, max_depth=5, min_samples_split=20; total time=  37.6s\n",
            "[CV] END ...criterion=gini, max_depth=7, min_samples_split=2; total time=  53.7s\n",
            "[CV] END ...criterion=gini, max_depth=7, min_samples_split=2; total time=  53.2s\n",
            "[CV] END ...criterion=gini, max_depth=7, min_samples_split=2; total time=  53.3s\n",
            "[CV] END ...criterion=gini, max_depth=7, min_samples_split=2; total time=  53.4s\n",
            "[CV] END ...criterion=gini, max_depth=7, min_samples_split=2; total time=  53.2s\n",
            "[CV] END ...criterion=gini, max_depth=7, min_samples_split=5; total time=  53.2s\n",
            "[CV] END ...criterion=gini, max_depth=7, min_samples_split=5; total time=  53.3s\n",
            "[CV] END ...criterion=gini, max_depth=7, min_samples_split=5; total time=  53.2s\n",
            "[CV] END ...criterion=gini, max_depth=7, min_samples_split=5; total time=  53.7s\n",
            "[CV] END ...criterion=gini, max_depth=7, min_samples_split=5; total time=  53.1s\n",
            "[CV] END ..criterion=gini, max_depth=7, min_samples_split=10; total time=  53.6s\n",
            "[CV] END ..criterion=gini, max_depth=7, min_samples_split=10; total time=  53.4s\n",
            "[CV] END ..criterion=gini, max_depth=7, min_samples_split=10; total time=  53.9s\n",
            "[CV] END ..criterion=gini, max_depth=7, min_samples_split=10; total time=  53.4s\n",
            "[CV] END ..criterion=gini, max_depth=7, min_samples_split=10; total time=  52.7s\n",
            "[CV] END ..criterion=gini, max_depth=7, min_samples_split=20; total time=  53.0s\n",
            "[CV] END ..criterion=gini, max_depth=7, min_samples_split=20; total time=  53.4s\n",
            "[CV] END ..criterion=gini, max_depth=7, min_samples_split=20; total time=  53.1s\n",
            "[CV] END ..criterion=gini, max_depth=7, min_samples_split=20; total time=  53.5s\n",
            "[CV] END ..criterion=gini, max_depth=7, min_samples_split=20; total time=  52.8s\n",
            "[CV] END ..criterion=gini, max_depth=10, min_samples_split=2; total time= 1.3min\n",
            "[CV] END ..criterion=gini, max_depth=10, min_samples_split=2; total time= 1.2min\n",
            "[CV] END ..criterion=gini, max_depth=10, min_samples_split=2; total time= 1.2min\n",
            "[CV] END ..criterion=gini, max_depth=10, min_samples_split=2; total time= 1.2min\n",
            "[CV] END ..criterion=gini, max_depth=10, min_samples_split=2; total time= 1.2min\n",
            "[CV] END ..criterion=gini, max_depth=10, min_samples_split=5; total time= 1.2min\n",
            "[CV] END ..criterion=gini, max_depth=10, min_samples_split=5; total time= 1.2min\n",
            "[CV] END ..criterion=gini, max_depth=10, min_samples_split=5; total time= 1.2min\n",
            "[CV] END ..criterion=gini, max_depth=10, min_samples_split=5; total time= 1.3min\n",
            "[CV] END ..criterion=gini, max_depth=10, min_samples_split=5; total time= 1.2min\n",
            "[CV] END .criterion=gini, max_depth=10, min_samples_split=10; total time= 1.2min\n",
            "[CV] END .criterion=gini, max_depth=10, min_samples_split=10; total time= 1.2min\n",
            "[CV] END .criterion=gini, max_depth=10, min_samples_split=10; total time= 1.3min\n",
            "[CV] END .criterion=gini, max_depth=10, min_samples_split=10; total time= 1.2min\n",
            "[CV] END .criterion=gini, max_depth=10, min_samples_split=10; total time= 1.2min\n",
            "[CV] END .criterion=gini, max_depth=10, min_samples_split=20; total time= 1.2min\n",
            "[CV] END .criterion=gini, max_depth=10, min_samples_split=20; total time= 1.2min\n",
            "[CV] END .criterion=gini, max_depth=10, min_samples_split=20; total time= 1.2min\n",
            "[CV] END .criterion=gini, max_depth=10, min_samples_split=20; total time= 1.2min\n",
            "[CV] END .criterion=gini, max_depth=10, min_samples_split=20; total time= 1.2min\n",
            "[CV] END criterion=entropy, max_depth=3, min_samples_split=2; total time=  22.9s\n",
            "[CV] END criterion=entropy, max_depth=3, min_samples_split=2; total time=  22.7s\n",
            "[CV] END criterion=entropy, max_depth=3, min_samples_split=2; total time=  22.7s\n",
            "[CV] END criterion=entropy, max_depth=3, min_samples_split=2; total time=  22.7s\n",
            "[CV] END criterion=entropy, max_depth=3, min_samples_split=2; total time=  22.8s\n",
            "[CV] END criterion=entropy, max_depth=3, min_samples_split=5; total time=  22.8s\n",
            "[CV] END criterion=entropy, max_depth=3, min_samples_split=5; total time=  23.0s\n",
            "[CV] END criterion=entropy, max_depth=3, min_samples_split=5; total time=  22.7s\n",
            "[CV] END criterion=entropy, max_depth=3, min_samples_split=5; total time=  22.7s\n",
            "[CV] END criterion=entropy, max_depth=3, min_samples_split=5; total time=  22.6s\n",
            "[CV] END criterion=entropy, max_depth=3, min_samples_split=10; total time=  22.7s\n",
            "[CV] END criterion=entropy, max_depth=3, min_samples_split=10; total time=  22.7s\n",
            "[CV] END criterion=entropy, max_depth=3, min_samples_split=10; total time=  22.8s\n",
            "[CV] END criterion=entropy, max_depth=3, min_samples_split=10; total time=  22.7s\n",
            "[CV] END criterion=entropy, max_depth=3, min_samples_split=10; total time=  22.6s\n",
            "[CV] END criterion=entropy, max_depth=3, min_samples_split=20; total time=  22.7s\n",
            "[CV] END criterion=entropy, max_depth=3, min_samples_split=20; total time=  22.9s\n",
            "[CV] END criterion=entropy, max_depth=3, min_samples_split=20; total time=  23.0s\n",
            "[CV] END criterion=entropy, max_depth=3, min_samples_split=20; total time=  22.7s\n",
            "[CV] END criterion=entropy, max_depth=3, min_samples_split=20; total time=  22.7s\n",
            "[CV] END criterion=entropy, max_depth=5, min_samples_split=2; total time=  40.5s\n",
            "[CV] END criterion=entropy, max_depth=5, min_samples_split=2; total time=  40.1s\n",
            "[CV] END criterion=entropy, max_depth=5, min_samples_split=2; total time=  39.6s\n",
            "[CV] END criterion=entropy, max_depth=5, min_samples_split=2; total time=  40.7s\n",
            "[CV] END criterion=entropy, max_depth=5, min_samples_split=2; total time=  40.8s\n",
            "[CV] END criterion=entropy, max_depth=5, min_samples_split=5; total time=  40.2s\n",
            "[CV] END criterion=entropy, max_depth=5, min_samples_split=5; total time=  40.0s\n",
            "[CV] END criterion=entropy, max_depth=5, min_samples_split=5; total time=  39.5s\n",
            "[CV] END criterion=entropy, max_depth=5, min_samples_split=5; total time=  40.6s\n",
            "[CV] END criterion=entropy, max_depth=5, min_samples_split=5; total time=  40.1s\n",
            "[CV] END criterion=entropy, max_depth=5, min_samples_split=10; total time=  40.2s\n",
            "[CV] END criterion=entropy, max_depth=5, min_samples_split=10; total time=  40.1s\n",
            "[CV] END criterion=entropy, max_depth=5, min_samples_split=10; total time=  39.8s\n",
            "[CV] END criterion=entropy, max_depth=5, min_samples_split=10; total time=  40.3s\n",
            "[CV] END criterion=entropy, max_depth=5, min_samples_split=10; total time=  40.1s\n",
            "[CV] END criterion=entropy, max_depth=5, min_samples_split=20; total time=  40.2s\n",
            "[CV] END criterion=entropy, max_depth=5, min_samples_split=20; total time=  40.2s\n",
            "[CV] END criterion=entropy, max_depth=5, min_samples_split=20; total time=  39.6s\n",
            "[CV] END criterion=entropy, max_depth=5, min_samples_split=20; total time=  40.3s\n",
            "[CV] END criterion=entropy, max_depth=5, min_samples_split=20; total time=  40.2s\n",
            "[CV] END criterion=entropy, max_depth=7, min_samples_split=2; total time=  58.5s\n",
            "[CV] END criterion=entropy, max_depth=7, min_samples_split=2; total time=  58.1s\n",
            "[CV] END criterion=entropy, max_depth=7, min_samples_split=2; total time=  56.9s\n",
            "[CV] END criterion=entropy, max_depth=7, min_samples_split=2; total time=  56.8s\n",
            "[CV] END criterion=entropy, max_depth=7, min_samples_split=2; total time=  58.2s\n",
            "[CV] END criterion=entropy, max_depth=7, min_samples_split=5; total time=  57.7s\n",
            "[CV] END criterion=entropy, max_depth=7, min_samples_split=5; total time=  58.0s\n",
            "[CV] END criterion=entropy, max_depth=7, min_samples_split=5; total time=  56.8s\n",
            "[CV] END criterion=entropy, max_depth=7, min_samples_split=5; total time=  56.9s\n",
            "[CV] END criterion=entropy, max_depth=7, min_samples_split=5; total time=  57.7s\n",
            "[CV] END criterion=entropy, max_depth=7, min_samples_split=10; total time=  58.0s\n",
            "[CV] END criterion=entropy, max_depth=7, min_samples_split=10; total time=  58.2s\n",
            "[CV] END criterion=entropy, max_depth=7, min_samples_split=10; total time=  57.5s\n",
            "[CV] END criterion=entropy, max_depth=7, min_samples_split=10; total time=  56.5s\n",
            "[CV] END criterion=entropy, max_depth=7, min_samples_split=10; total time=  58.0s\n",
            "[CV] END criterion=entropy, max_depth=7, min_samples_split=20; total time=  58.2s\n",
            "[CV] END criterion=entropy, max_depth=7, min_samples_split=20; total time=  58.4s\n",
            "[CV] END criterion=entropy, max_depth=7, min_samples_split=20; total time=  56.6s\n",
            "[CV] END criterion=entropy, max_depth=7, min_samples_split=20; total time=  56.5s\n",
            "[CV] END criterion=entropy, max_depth=7, min_samples_split=20; total time=  58.3s\n",
            "[CV] END criterion=entropy, max_depth=10, min_samples_split=2; total time= 1.2min\n",
            "[CV] END criterion=entropy, max_depth=10, min_samples_split=2; total time= 1.3min\n",
            "[CV] END criterion=entropy, max_depth=10, min_samples_split=2; total time= 1.2min\n",
            "[CV] END criterion=entropy, max_depth=10, min_samples_split=2; total time= 1.2min\n",
            "[CV] END criterion=entropy, max_depth=10, min_samples_split=2; total time= 1.2min\n",
            "[CV] END criterion=entropy, max_depth=10, min_samples_split=5; total time= 1.2min\n",
            "[CV] END criterion=entropy, max_depth=10, min_samples_split=5; total time= 1.2min\n",
            "[CV] END criterion=entropy, max_depth=10, min_samples_split=5; total time= 1.2min\n",
            "[CV] END criterion=entropy, max_depth=10, min_samples_split=5; total time= 1.2min\n",
            "[CV] END criterion=entropy, max_depth=10, min_samples_split=5; total time= 1.2min\n",
            "[CV] END criterion=entropy, max_depth=10, min_samples_split=10; total time= 1.2min\n",
            "[CV] END criterion=entropy, max_depth=10, min_samples_split=10; total time= 1.3min\n",
            "[CV] END criterion=entropy, max_depth=10, min_samples_split=10; total time= 1.2min\n",
            "[CV] END criterion=entropy, max_depth=10, min_samples_split=10; total time= 1.2min\n",
            "[CV] END criterion=entropy, max_depth=10, min_samples_split=10; total time= 1.2min\n",
            "[CV] END criterion=entropy, max_depth=10, min_samples_split=20; total time= 1.2min\n",
            "[CV] END criterion=entropy, max_depth=10, min_samples_split=20; total time= 1.2min\n",
            "[CV] END criterion=entropy, max_depth=10, min_samples_split=20; total time= 1.2min\n",
            "[CV] END criterion=entropy, max_depth=10, min_samples_split=20; total time= 1.2min\n",
            "[CV] END criterion=entropy, max_depth=10, min_samples_split=20; total time= 1.2min\n",
            "Accuracy: 0.82\n",
            "Precision: 0.8478260869565217\n",
            "Recall: 0.78\n",
            "F1-score: 0.8125\n",
            "Confusion Matrix:\n",
            "[[86 14]\n",
            " [22 78]]\n"
          ]
        },
        {
          "data": {
            "text/plain": [
              "[Text(0.5, 0.9166666666666666, 'x[144] <= 159.5\\ngini = 0.5\\nsamples = 10000\\nvalue = [5000, 5000]'),\n",
              " Text(0.25, 0.75, 'x[969] <= 115.5\\ngini = 0.371\\nsamples = 5151\\nvalue = [3883.0, 1268.0]'),\n",
              " Text(0.375, 0.8333333333333333, 'True  '),\n",
              " Text(0.125, 0.5833333333333334, 'x[1559] <= 48.5\\ngini = 0.238\\nsamples = 3390\\nvalue = [2921.0, 469.0]'),\n",
              " Text(0.0625, 0.4166666666666667, 'x[1557] <= 64.5\\ngini = 0.365\\nsamples = 1118\\nvalue = [849, 269]'),\n",
              " Text(0.03125, 0.25, 'x[99] <= 178.0\\ngini = 0.296\\nsamples = 1004\\nvalue = [823, 181]'),\n",
              " Text(0.015625, 0.08333333333333333, 'gini = 0.27\\nsamples = 953\\nvalue = [800, 153]'),\n",
              " Text(0.046875, 0.08333333333333333, 'gini = 0.495\\nsamples = 51\\nvalue = [23.0, 28.0]'),\n",
              " Text(0.09375, 0.25, 'x[675] <= 52.5\\ngini = 0.352\\nsamples = 114\\nvalue = [26, 88]'),\n",
              " Text(0.078125, 0.08333333333333333, 'gini = 0.142\\nsamples = 13\\nvalue = [12, 1]'),\n",
              " Text(0.109375, 0.08333333333333333, 'gini = 0.239\\nsamples = 101\\nvalue = [14.0, 87.0]'),\n",
              " Text(0.1875, 0.4166666666666667, 'x[501] <= 250.5\\ngini = 0.161\\nsamples = 2272\\nvalue = [2072, 200]'),\n",
              " Text(0.15625, 0.25, 'x[180] <= 79.5\\ngini = 0.154\\nsamples = 2260\\nvalue = [2070, 190]'),\n",
              " Text(0.140625, 0.08333333333333333, 'gini = 0.089\\nsamples = 1491\\nvalue = [1421, 70]'),\n",
              " Text(0.171875, 0.08333333333333333, 'gini = 0.263\\nsamples = 769\\nvalue = [649.0, 120.0]'),\n",
              " Text(0.21875, 0.25, 'x[9223] <= 44.0\\ngini = 0.278\\nsamples = 12\\nvalue = [2, 10]'),\n",
              " Text(0.203125, 0.08333333333333333, 'gini = 0.0\\nsamples = 2\\nvalue = [2, 0]'),\n",
              " Text(0.234375, 0.08333333333333333, 'gini = 0.0\\nsamples = 10\\nvalue = [0, 10]'),\n",
              " Text(0.375, 0.5833333333333334, 'x[971] <= 112.5\\ngini = 0.496\\nsamples = 1761\\nvalue = [962, 799]'),\n",
              " Text(0.3125, 0.4166666666666667, 'x[69] <= 104.5\\ngini = 0.214\\nsamples = 484\\nvalue = [59, 425]'),\n",
              " Text(0.28125, 0.25, 'x[1373] <= 77.5\\ngini = 0.495\\nsamples = 51\\nvalue = [28.0, 23.0]'),\n",
              " Text(0.265625, 0.08333333333333333, 'gini = 0.298\\nsamples = 22\\nvalue = [4, 18]'),\n",
              " Text(0.296875, 0.08333333333333333, 'gini = 0.285\\nsamples = 29\\nvalue = [24, 5]'),\n",
              " Text(0.34375, 0.25, 'x[206] <= 87.5\\ngini = 0.133\\nsamples = 433\\nvalue = [31, 402]'),\n",
              " Text(0.328125, 0.08333333333333333, 'gini = 0.048\\nsamples = 365\\nvalue = [9, 356]'),\n",
              " Text(0.359375, 0.08333333333333333, 'gini = 0.438\\nsamples = 68\\nvalue = [22, 46]'),\n",
              " Text(0.4375, 0.4166666666666667, 'x[231] <= 221.5\\ngini = 0.414\\nsamples = 1277\\nvalue = [903, 374]'),\n",
              " Text(0.40625, 0.25, 'x[1539] <= 197.5\\ngini = 0.307\\nsamples = 1052\\nvalue = [853, 199]'),\n",
              " Text(0.390625, 0.08333333333333333, 'gini = 0.248\\nsamples = 874\\nvalue = [747, 127]'),\n",
              " Text(0.421875, 0.08333333333333333, 'gini = 0.482\\nsamples = 178\\nvalue = [106, 72]'),\n",
              " Text(0.46875, 0.25, 'x[6] <= 217.0\\ngini = 0.346\\nsamples = 225\\nvalue = [50, 175]'),\n",
              " Text(0.453125, 0.08333333333333333, 'gini = 0.494\\nsamples = 54\\nvalue = [30, 24]'),\n",
              " Text(0.484375, 0.08333333333333333, 'gini = 0.207\\nsamples = 171\\nvalue = [20, 151]'),\n",
              " Text(0.75, 0.75, 'x[792] <= 177.5\\ngini = 0.355\\nsamples = 4849\\nvalue = [1117, 3732]'),\n",
              " Text(0.625, 0.8333333333333333, '  False'),\n",
              " Text(0.625, 0.5833333333333334, 'x[146] <= 149.5\\ngini = 0.493\\nsamples = 1494\\nvalue = [658, 836]'),\n",
              " Text(0.5625, 0.4166666666666667, 'x[753] <= 154.5\\ngini = 0.176\\nsamples = 441\\nvalue = [43, 398]'),\n",
              " Text(0.53125, 0.25, 'x[1647] <= 152.0\\ngini = 0.476\\nsamples = 69\\nvalue = [27, 42]'),\n",
              " Text(0.515625, 0.08333333333333333, 'gini = 0.391\\nsamples = 30\\nvalue = [22, 8]'),\n",
              " Text(0.546875, 0.08333333333333333, 'gini = 0.224\\nsamples = 39\\nvalue = [5, 34]'),\n",
              " Text(0.59375, 0.25, 'x[163] <= 223.5\\ngini = 0.082\\nsamples = 372\\nvalue = [16, 356]'),\n",
              " Text(0.578125, 0.08333333333333333, 'gini = 0.063\\nsamples = 367\\nvalue = [12.0, 355.0]'),\n",
              " Text(0.609375, 0.08333333333333333, 'gini = 0.32\\nsamples = 5\\nvalue = [4, 1]'),\n",
              " Text(0.6875, 0.4166666666666667, 'x[558] <= 223.5\\ngini = 0.486\\nsamples = 1053\\nvalue = [615, 438]'),\n",
              " Text(0.65625, 0.25, 'x[462] <= 217.5\\ngini = 0.38\\nsamples = 718\\nvalue = [535, 183]'),\n",
              " Text(0.640625, 0.08333333333333333, 'gini = 0.31\\nsamples = 616\\nvalue = [498, 118]'),\n",
              " Text(0.671875, 0.08333333333333333, 'gini = 0.462\\nsamples = 102\\nvalue = [37, 65]'),\n",
              " Text(0.71875, 0.25, 'x[309] <= 229.5\\ngini = 0.364\\nsamples = 335\\nvalue = [80, 255]'),\n",
              " Text(0.703125, 0.08333333333333333, 'gini = 0.495\\nsamples = 120\\nvalue = [54, 66]'),\n",
              " Text(0.734375, 0.08333333333333333, 'gini = 0.213\\nsamples = 215\\nvalue = [26, 189]'),\n",
              " Text(0.875, 0.5833333333333334, 'x[8834] <= 170.5\\ngini = 0.236\\nsamples = 3355\\nvalue = [459.0, 2896.0]'),\n",
              " Text(0.8125, 0.4166666666666667, 'x[222] <= 172.5\\ngini = 0.128\\nsamples = 2602\\nvalue = [179, 2423]'),\n",
              " Text(0.78125, 0.25, 'x[812] <= 148.0\\ngini = 0.489\\nsamples = 82\\nvalue = [35.0, 47.0]'),\n",
              " Text(0.765625, 0.08333333333333333, 'gini = 0.283\\nsamples = 41\\nvalue = [7.0, 34.0]'),\n",
              " Text(0.796875, 0.08333333333333333, 'gini = 0.433\\nsamples = 41\\nvalue = [28.0, 13.0]'),\n",
              " Text(0.84375, 0.25, 'x[1527] <= 177.5\\ngini = 0.108\\nsamples = 2520\\nvalue = [144, 2376]'),\n",
              " Text(0.828125, 0.08333333333333333, 'gini = 0.275\\nsamples = 443\\nvalue = [73, 370]'),\n",
              " Text(0.859375, 0.08333333333333333, 'gini = 0.066\\nsamples = 2077\\nvalue = [71, 2006]'),\n",
              " Text(0.9375, 0.4166666666666667, 'x[6719] <= 182.5\\ngini = 0.467\\nsamples = 753\\nvalue = [280, 473]'),\n",
              " Text(0.90625, 0.25, 'x[1335] <= 186.5\\ngini = 0.275\\nsamples = 431\\nvalue = [71, 360]'),\n",
              " Text(0.890625, 0.08333333333333333, 'gini = 0.466\\nsamples = 138\\nvalue = [51, 87]'),\n",
              " Text(0.921875, 0.08333333333333333, 'gini = 0.127\\nsamples = 293\\nvalue = [20, 273]'),\n",
              " Text(0.96875, 0.25, 'x[1355] <= 182.5\\ngini = 0.456\\nsamples = 322\\nvalue = [209.0, 113.0]'),\n",
              " Text(0.953125, 0.08333333333333333, 'gini = 0.209\\nsamples = 59\\nvalue = [7, 52]'),\n",
              " Text(0.984375, 0.08333333333333333, 'gini = 0.356\\nsamples = 263\\nvalue = [202, 61]')]"
            ]
          },
          "execution_count": 69,
          "metadata": {},
          "output_type": "execute_result"
        },
        {
          "data": {
            "image/png": "[encoded data removed]",
            "text/plain": [
              "<Figure size 640x480 with 1 Axes>"
            ]
          },
          "metadata": {},
          "output_type": "display_data"
        }
      ],
      "source": [
        "!pip install tqdm\n",
        "\n",
        "from tqdm import tqdm\n",
        "from sklearn.model_selection import train_test_split, GridSearchCV\n",
        "from sklearn.tree import DecisionTreeClassifier, plot_tree\n",
        "from sklearn.metrics import accuracy_score, precision_score, recall_score, f1_score, confusion_matrix\n",
        "import numpy as np\n",
        "from sklearn.model_selection import StratifiedKFold\n",
        "from sklearn.model_selection import KFold\n",
        "\n",
        "# ... (Your load_images_from_folder function remains the same) ...\n",
        "\n",
        "# Load and preprocess data\n",
        "# ... (Your data loading and preprocessing code remains the same) ...\n",
        "\n",
        "# Instantiate model\n",
        "model = DecisionTreeClassifier()\n",
        "\n",
        "# Hyperparameter tuning (example) with tqdm progress bar\n",
        "param_grid = {\n",
        "    'max_depth': [3, 5, 7, 10],\n",
        "    'min_samples_split': [2, 5, 10, 20],\n",
        "    'criterion': ['gini', 'entropy'],\n",
        "}\n",
        "\n",
        "# Check if X_train and y_train are empty\n",
        "if len(X_train) == 0 or len(y_train) == 0:\n",
        "  raise ValueError(\"X_train or y_train is empty. Check your data loading.\")\n",
        "\n",
        "# Check if the number of images and labels match\n",
        "if len(X_train) != len(y_train):\n",
        "  raise ValueError(\"Number of images and labels do not match. Check your data loading.\")\n",
        "\n",
        "\n",
        "#grid_search = GridSearchCV(model, param_grid, cv=StratifiedKFold(n_splits=5), scoring='accuracy', verbose=0, n_jobs=-1)\n",
        "grid_search = GridSearchCV(model, param_grid, cv=StratifiedKFold(n_splits=5, shuffle=True), scoring='balanced_accuracy', verbose=2, n_jobs=-1)\n",
        "#grid_search = GridSearchCV(model, param_grid, cv=KFold(n_splits=5, shuffle=True), scoring='balanced_accuracy', verbose=2, n_jobs=1)\n",
        "\n",
        "try:\n",
        "  grid_search.fit(X_train, y_train)\n",
        "except IndexError as e:\n",
        "  print(\"IndexError occurred during GridSearchCV.fit:\")\n",
        "  print(\"Error message:\", e)\n",
        "  print(\"X_train shape:\", X_train.shape)\n",
        "  print(\"y_train shape:\", y_train.shape)\n",
        "  print(\"param_grid:\", param_grid)\n",
        "  # Add any other relevant debugging information here\n",
        "  raise  # Re-raise the exception to stop execution\n",
        "\n",
        "\n",
        "best_model = grid_search.best_estimator_\n",
        "\n",
        "\n",
        "# Train model\n",
        "best_model.fit(X_train, y_train)\n",
        "\n",
        "# Make predictions\n",
        "y_pred = best_model.predict(X_test)\n",
        "\n",
        "# Evaluate model\n",
        "accuracy = accuracy_score(y_test, y_pred)\n",
        "precision = precision_score(y_test, y_pred)\n",
        "recall = recall_score(y_test, y_pred)\n",
        "f1 = f1_score(y_test, y_pred)\n",
        "conf_matrix = confusion_matrix(y_test, y_pred)\n",
        "\n",
        "# Print the metrics\n",
        "print(f\"Accuracy: {accuracy}\")\n",
        "print(f\"Precision: {precision}\")\n",
        "print(f\"Recall: {recall}\")\n",
        "print(f\"F1-score: {f1}\")\n",
        "print(\"Confusion Matrix:\")\n",
        "print(conf_matrix)\n",
        "\n",
        "# Visualize the tree\n",
        "plot_tree(best_model)\n"
      ]
    },
    {
      "cell_type": "code",
      "execution_count": null,
      "metadata": {
        "id": "dJGaRCB0HC_F"
      },
      "outputs": [],
      "source": []
    },
    {
      "cell_type": "code",
      "execution_count": null,
      "metadata": {
        "id": "zlvp6FQ7eSuS"
      },
      "outputs": [],
      "source": [
        "#function for evaluate model\n",
        "from sklearn.metrics import accuracy_score, precision_score, recall_score, f1_score, confusion_matrix\n",
        "# Evaluate model\n",
        "def evaluate_model(y_test, y_pred):\n",
        "  accuracy = accuracy_score(y_test, y_pred)\n",
        "  precision = precision_score(y_test, y_pred)\n",
        "  recall = recall_score(y_test, y_pred)\n",
        "  f1 = f1_score(y_test, y_pred)\n",
        "  conf_matrix = confusion_matrix(y_test, y_pred)\n",
        "\n",
        "  # Print the metrics\n",
        "  print(f\"Accuracy: {accuracy}\")\n",
        "  print(f\"Precision: {precision}\")\n",
        "  print(f\"Recall: {recall}\")\n",
        "  print(f\"F1-score: {f1}\")\n",
        "  print(\"Confusion Matrix:\")\n",
        "  print(conf_matrix)\n",
        "\n",
        "  return(accuracy, precision, recall, f1, conf_matrix)"
      ]
    },
    {
      "cell_type": "code",
      "execution_count": null,
      "metadata": {
        "colab": {
          "base_uri": "https://localhost:8080/"
        },
        "id": "kB1bxLo-jQhF",
        "outputId": "d7809737-00a8-48ed-c63f-66fe7c9efa85"
      },
      "outputs": [
        {
          "name": "stdout",
          "output_type": "stream",
          "text": [
            "Accuracy: 0.82\n",
            "Precision: 0.8478260869565217\n",
            "Recall: 0.78\n",
            "F1-score: 0.8125\n",
            "Confusion Matrix:\n",
            "[[86 14]\n",
            " [22 78]]\n"
          ]
        }
      ],
      "source": [
        "results_dt = evaluate_model(y_test, y_pred)"
      ]
    },
    {
      "cell_type": "code",
      "execution_count": null,
      "metadata": {
        "colab": {
          "base_uri": "https://localhost:8080/",
          "height": 35
        },
        "id": "LIlVbe5PvHHX",
        "outputId": "6b8a31c2-3dc8-45cb-bf41-c1cb1d329aac"
      },
      "outputs": [
        {
          "data": {
            "text/plain": [
              "<Figure size 640x480 with 0 Axes>"
            ]
          },
          "metadata": {},
          "output_type": "display_data"
        }
      ],
      "source": [
        "import matplotlib.pyplot as plt\n",
        "plt.savefig(\"decision_tree.png\", dpi=300)"
      ]
    },
    {
      "cell_type": "markdown",
      "metadata": {
        "id": "0cNr3trHDKdc"
      },
      "source": [
        "Random forest"
      ]
    },
    {
      "cell_type": "code",
      "execution_count": null,
      "metadata": {
        "colab": {
          "base_uri": "https://localhost:8080/"
        },
        "id": "yeM9C7YsDM1O",
        "outputId": "7b8a679d-0d49-4225-d057-cf2fd057dca3"
      },
      "outputs": [
        {
          "name": "stdout",
          "output_type": "stream",
          "text": [
            "Fitting 3 folds for each of 8 candidates, totalling 24 fits\n",
            "Accuracy: 0.865\n",
            "Precision: 0.8762886597938144\n",
            "Recall: 0.85\n",
            "F1-score: 0.8629441624365483\n",
            "Confusion Matrix:\n",
            "[[88 12]\n",
            " [15 85]]\n"
          ]
        }
      ],
      "source": [
        "from sklearn.model_selection import train_test_split, GridSearchCV\n",
        "from sklearn.ensemble import RandomForestClassifier\n",
        "from sklearn.metrics import accuracy_score\n",
        "import numpy as np\n",
        "\n",
        "\n",
        "# Instantiate model with optimized parameters\n",
        "model = RandomForestClassifier(\n",
        "    n_estimators=100,  # Reduce the number of trees (start with a smaller value)\n",
        "    max_depth=10,  # Limit tree depth (experiment with different values)\n",
        "    min_samples_split=5,  # Increase min_samples_split (try values like 5 or 10)\n",
        "    max_features=\"sqrt\",  # Consider using \"sqrt\" or \"log2\" for max_features\n",
        "    random_state=42,\n",
        "    n_jobs=-1  # Use all available CPU cores\n",
        ")\n",
        "\n",
        "# Hyperparameter tuning with a reduced search space and cross-validation folds\n",
        "param_grid = {\n",
        "    'n_estimators': [50, 100],  # Reduce the range of n_estimators\n",
        "    'max_depth': [5, 10],  # Reduce the range of max_depth\n",
        "    'min_samples_split': [2, 5],  # Reduce the range of min_samples_split\n",
        "}\n",
        "\n",
        "grid_search = GridSearchCV(\n",
        "    model,\n",
        "    param_grid,\n",
        "    cv=StratifiedKFold(n_splits=3, shuffle=True),  # Reduce the number of CV folds\n",
        "    scoring='balanced_accuracy',\n",
        "    verbose=2,\n",
        "    n_jobs=-1  # Use all available CPU cores\n",
        ")\n",
        "\n",
        "grid_search.fit(X_train, y_train)\n",
        "best_model = grid_search.best_estimator_\n",
        "\n",
        "# Train model\n",
        "best_model.fit(X_train, y_train)\n",
        "\n",
        "# Make predictions\n",
        "y_pred = best_model.predict(X_test)\n",
        "\n",
        "# Evaluate model\n",
        "results_randomforest = evaluate_model(y_test, y_pred)\n"
      ]
    },
    {
      "cell_type": "markdown",
      "metadata": {
        "id": "OykVIE3_DSgA"
      },
      "source": [
        "boosting : AdaBoostClassifier"
      ]
    },
    {
      "cell_type": "code",
      "execution_count": null,
      "metadata": {
        "colab": {
          "background_save": true,
          "base_uri": "https://localhost:8080/"
        },
        "id": "9gmSnVmMDW4d",
        "outputId": "bfcaf403-ee56-499e-b743-253d8406f6cd"
      },
      "outputs": [
        {
          "name": "stdout",
          "output_type": "stream",
          "text": [
            "Fitting 3 folds for each of 8 candidates, totalling 24 fits\n"
          ]
        }
      ],
      "source": [
        "from sklearn.model_selection import train_test_split, GridSearchCV\n",
        "from sklearn.ensemble import AdaBoostClassifier\n",
        "from sklearn.tree import DecisionTreeClassifier\n",
        "from sklearn.metrics import accuracy_score\n",
        "import numpy as np\n",
        "from sklearn.model_selection import StratifiedKFold  # Import StratifiedKFold\n",
        "\n",
        "\n",
        "# 1. Use Decision Stumps as Base Estimators:\n",
        "base_estimator = DecisionTreeClassifier(max_depth=1)\n",
        "\n",
        "# 2. Instantiate AdaBoostClassifier with optimized parameters:\n",
        "model = AdaBoostClassifier(\n",
        "    estimator=base_estimator,\n",
        "    n_estimators=50,\n",
        "    learning_rate=1.0,\n",
        "    random_state=42\n",
        ")\n",
        "\n",
        "param_grid = {\n",
        "    'estimator__criterion': ['gini', 'entropy'],  # Access base estimator's criterion\n",
        "    'n_estimators': [50, 100],  # Example: Tune n_estimators for AdaBoost\n",
        "    'learning_rate': [0.1, 1.0],  # Example: Tune learning_rate\n",
        "}\n",
        "\n",
        "# 3. Hyperparameter tuning\n",
        "grid_search = GridSearchCV(\n",
        "    model,\n",
        "    param_grid,\n",
        "    cv=StratifiedKFold(n_splits=3, shuffle=True),\n",
        "    scoring='balanced_accuracy',\n",
        "    verbose=2,  # You can adjust verbose level here if needed\n",
        "    n_jobs=-1\n",
        ")\n",
        "grid_search.fit(X_train, y_train)  # Remove tqdm wrapper\n",
        "\n",
        "best_model = grid_search.best_estimator_\n",
        "\n",
        "# Train model\n",
        "best_model.fit(X_train, y_train)\n",
        "\n",
        "# Make predictions\n",
        "y_pred = best_model.predict(X_test)\n",
        "\n",
        "# Evaluate model\n",
        "results_boosting = evaluate_model(y_test, y_pred)"
      ]
    },
    {
      "cell_type": "markdown",
      "metadata": {
        "id": "7Snft7aqDY1P"
      },
      "source": [
        "semisupervised decision tree"
      ]
    },
    {
      "cell_type": "code",
      "execution_count": null,
      "metadata": {
        "colab": {
          "base_uri": "https://localhost:8080/",
          "height": 847
        },
        "id": "XijIZxvXDdA-",
        "outputId": "803c7904-f28e-4ef2-e3ce-6936413cd27e"
      },
      "outputs": [
        {
          "name": "stdout",
          "output_type": "stream",
          "text": [
            "Training initial model on labeled data...\n",
            "Initial model training complete.\n",
            "Iteration 1:\n",
            "  - Number of unlabeled samples: 5000\n",
            "  - Number of confident predictions: 4323\n",
            "  - Retraining model on updated labeled data...\n",
            "  - Retraining complete.\n",
            "Iteration 2:\n",
            "  - Number of unlabeled samples: 677\n",
            "  - Number of confident predictions: 532\n",
            "  - Retraining model on updated labeled data...\n",
            "  - Retraining complete.\n",
            "Iteration 3:\n",
            "  - Number of unlabeled samples: 145\n",
            "  - Number of confident predictions: 107\n",
            "  - Retraining model on updated labeled data...\n",
            "  - Retraining complete.\n",
            "Iteration 4:\n",
            "  - Number of unlabeled samples: 38\n",
            "  - Number of confident predictions: 18\n",
            "  - Retraining model on updated labeled data...\n",
            "  - Retraining complete.\n",
            "Iteration 5:\n",
            "  - Number of unlabeled samples: 20\n",
            "  - Number of confident predictions: 8\n",
            "  - Retraining model on updated labeled data...\n",
            "  - Retraining complete.\n",
            "Iteration 6:\n",
            "  - Number of unlabeled samples: 12\n",
            "  - Number of confident predictions: 2\n",
            "  - Retraining model on updated labeled data...\n",
            "  - Retraining complete.\n",
            "Iteration 7:\n",
            "  - Number of unlabeled samples: 10\n",
            "  - Number of confident predictions: 0\n",
            "  - No confident predictions found. Stopping iterations.\n",
            "Semi-supervised learning process finished.\n"
          ]
        },
        {
          "ename": "NameError",
          "evalue": "name 'evaluate_model' is not defined",
          "output_type": "error",
          "traceback": [
            "\u001b[0;31m---------------------------------------------------------------------------\u001b[0m",
            "\u001b[0;31mNameError\u001b[0m                                 Traceback (most recent call last)",
            "\u001b[0;32m<ipython-input-13-63a919275ff6>\u001b[0m in \u001b[0;36m<cell line: 0>\u001b[0;34m()\u001b[0m\n\u001b[1;32m     50\u001b[0m \u001b[0;31m# 4. Evaluate on test data\u001b[0m\u001b[0;34m\u001b[0m\u001b[0;34m\u001b[0m\u001b[0m\n\u001b[1;32m     51\u001b[0m \u001b[0my_pred\u001b[0m \u001b[0;34m=\u001b[0m \u001b[0mmodel\u001b[0m\u001b[0;34m.\u001b[0m\u001b[0mpredict\u001b[0m\u001b[0;34m(\u001b[0m\u001b[0mX_test\u001b[0m\u001b[0;34m)\u001b[0m\u001b[0;34m\u001b[0m\u001b[0;34m\u001b[0m\u001b[0m\n\u001b[0;32m---> 52\u001b[0;31m \u001b[0mresults_semisupervised_decisiontree\u001b[0m \u001b[0;34m=\u001b[0m \u001b[0mevaluate_model\u001b[0m\u001b[0;34m(\u001b[0m\u001b[0my_test\u001b[0m\u001b[0;34m,\u001b[0m \u001b[0my_pred\u001b[0m\u001b[0;34m)\u001b[0m\u001b[0;34m\u001b[0m\u001b[0;34m\u001b[0m\u001b[0m\n\u001b[0m",
            "\u001b[0;31mNameError\u001b[0m: name 'evaluate_model' is not defined"
          ]
        }
      ],
      "source": [
        "from sklearn.tree import DecisionTreeClassifier\n",
        "from sklearn.metrics import accuracy_score\n",
        "import numpy as np\n",
        "from tqdm import tqdm\n",
        "from sklearn.model_selection import train_test_split\n",
        "\n",
        "# 1. Split data into labeled and unlabeled sets\n",
        "# Assuming X_train, y_train contain your labeled data\n",
        "X_labeled, X_unlabeled, y_labeled, y_unlabeled = train_test_split(\n",
        "    X_train, y_train, test_size=0.5, random_state=42  # Adjust test_size as needed\n",
        ")\n",
        "\n",
        "# 2. Train initial model on labeled data (optimized)\n",
        "print(\"Training initial model on labeled data...\")\n",
        "model = DecisionTreeClassifier(max_depth=10, min_samples_leaf=5, min_samples_split=10, random_state=42, splitter=\"random\")\n",
        "model.fit(X_labeled, y_labeled)\n",
        "print(\"Initial model training complete.\")\n",
        "\n",
        "# 3. Iteratively predict on unlabeled data and add to training set (optimized)\n",
        "max_iterations = 10  # Limit the number of iterations\n",
        "iteration = 0\n",
        "while len(X_unlabeled) > 0 and iteration < max_iterations:\n",
        "    print(f\"Iteration {iteration + 1}:\")\n",
        "    print(f\"  - Number of unlabeled samples: {len(X_unlabeled)}\")\n",
        "\n",
        "    pseudo_probs = model.predict_proba(X_unlabeled)\n",
        "    confidence_threshold = 0.9  # Adjust as needed\n",
        "    confident_indices = np.where(np.max(pseudo_probs, axis=1) >= confidence_threshold)[0]\n",
        "\n",
        "    print(f\"  - Number of confident predictions: {len(confident_indices)}\")\n",
        "\n",
        "    if len(confident_indices) == 0:\n",
        "        print(\"  - No confident predictions found. Stopping iterations.\")\n",
        "        break\n",
        "\n",
        "    pseudo_labels = np.argmax(pseudo_probs[confident_indices], axis=1)\n",
        "    X_labeled = np.concatenate([X_labeled, X_unlabeled[confident_indices]])\n",
        "    y_labeled = np.concatenate([y_labeled, pseudo_labels])\n",
        "    X_unlabeled = np.delete(X_unlabeled, confident_indices, axis=0)\n",
        "\n",
        "    print(\"  - Retraining model on updated labeled data...\")\n",
        "    model.fit(X_labeled, y_labeled)\n",
        "    print(\"  - Retraining complete.\")\n",
        "\n",
        "    iteration += 1\n",
        "\n",
        "print(\"Semi-supervised learning process finished.\")\n",
        "\n",
        "\n",
        "# 4. Evaluate on test data\n",
        "y_pred = model.predict(X_test)\n",
        "results_semisupervised_decisiontree = evaluate_model(y_test, y_pred)"
      ]
    },
    {
      "cell_type": "code",
      "execution_count": null,
      "metadata": {
        "colab": {
          "base_uri": "https://localhost:8080/"
        },
        "id": "m835S-_K4asY",
        "outputId": "bd7d3c7a-805b-4209-e776-6142731b5990"
      },
      "outputs": [
        {
          "name": "stdout",
          "output_type": "stream",
          "text": [
            "Accuracy: 0.8\n",
            "Precision: 0.8\n",
            "Recall: 0.8\n",
            "F1-score: 0.8\n",
            "Confusion Matrix:\n",
            "[[80 20]\n",
            " [20 80]]\n"
          ]
        }
      ],
      "source": [
        "# 4. Evaluate on test data\n",
        "y_pred = model.predict(X_test)\n",
        "results_semisupervised_decisiontree = evaluate_model(y_test, y_pred)"
      ]
    },
    {
      "cell_type": "code",
      "execution_count": null,
      "metadata": {
        "colab": {
          "base_uri": "https://localhost:8080/"
        },
        "id": "Ndv93lkwuQsq",
        "outputId": "c55173a4-0aa8-4c9a-e94a-7b5a5f14d93c"
      },
      "outputs": [
        {
          "data": {
            "text/plain": [
              "(0.8,\n",
              " 0.8,\n",
              " 0.8,\n",
              " 0.8,\n",
              " array([[80, 20],\n",
              "        [20, 80]]))"
            ]
          },
          "execution_count": 25,
          "metadata": {},
          "output_type": "execute_result"
        }
      ],
      "source": []
    },
    {
      "cell_type": "code",
      "execution_count": null,
      "metadata": {
        "id": "fvN_csqHtypm"
      },
      "outputs": [],
      "source": [
        "#dont add this in report, i manually added this from above results, as the variuables were lost after multiple runs\n",
        "import array\n",
        "import numpy as np\n",
        "\n",
        "# ... (your code) ...\n",
        "\n",
        "results_dt = (0.82, 0.8478, 0.78, 0.8125, array.array('i', [86, 14, 22, 78]))\n",
        "confusion_matrix_data = np.array(results_dt[4])  # Convert to NumPy array\n",
        "confusion_matrix = confusion_matrix_data.reshape(2, 2)  # Reshape to 2x2\n",
        "results_dt = results_dt[:4] + (confusion_matrix,)  # Update results_dt with reshaped matrix"
      ]
    },
    {
      "cell_type": "code",
      "execution_count": null,
      "metadata": {
        "id": "5Tm34auMvdks"
      },
      "outputs": [],
      "source": [
        "#dont add this in report, i manually added this from above results, as the variuables were lost after multiple runs\n",
        "'''\n",
        "results_randomforest\n",
        "Accuracy: 0.865\n",
        "Precision: 0.8762886597938144\n",
        "Recall: 0.85\n",
        "F1-score: 0.8629441624365483\n",
        "Confusion Matrix:\n",
        "[[88 12]\n",
        " [15 85]]\n",
        "'''\n",
        "\n",
        "results_randomforest = (0.865, 0.8762, 0.85, 0.86294, array.array('i', [88, 12, 15, 85]))\n",
        "confusion_matrix_data = np.array(results_randomforest[4])  # Convert to NumPy array\n",
        "confusion_matrix = confusion_matrix_data.reshape(2, 2)  # Reshape to 2x2\n",
        "results_randomforest = results_randomforest[:4] + (confusion_matrix,)  # Update results_randomforest with reshaped matrix"
      ]
    },
    {
      "cell_type": "code",
      "execution_count": null,
      "metadata": {
        "id": "zgQFEFsVwIjn"
      },
      "outputs": [],
      "source": [
        "#dont add this in report, i manually added this from above results, as the variuables were lost after multiple runs\n",
        "'''\n",
        "results_boosting\n",
        "Accuracy: 0.865\n",
        "Precision: 0.8762886597938144\n",
        "Recall: 0.85\n",
        "F1-score: 0.8629441624365483\n",
        "Confusion Matrix:\n",
        "[[88 12]\n",
        " [15 85]]\n",
        "'''\n",
        "\n",
        "results_boosting = (0.865, 0.8762, 0.85, 0.86294, array.array('i', [88, 12, 15, 85]))\n",
        "confusion_matrix_data = np.array(results_boosting[4])  # Convert to NumPy array\n",
        "confusion_matrix = confusion_matrix_data.reshape(2, 2)  # Reshape to 2x2\n",
        "results_boosting = results_boosting[:4] + (confusion_matrix,)"
      ]
    },
    {
      "cell_type": "code",
      "execution_count": null,
      "metadata": {
        "colab": {
          "base_uri": "https://localhost:8080/"
        },
        "id": "09YqsowZioUf",
        "outputId": "4ff1c571-3f4a-4eeb-ecb2-8928900a2644"
      },
      "outputs": [
        {
          "name": "stdout",
          "output_type": "stream",
          "text": [
            "Requirement already satisfied: tabulate in /usr/local/lib/python3.11/dist-packages (0.9.0)\n",
            "+-----------------------------+------------+-------------+----------+------------+\n",
            "| Algorithm                   |   Accuracy |   Precision |   Recall |   F1-score |\n",
            "+=============================+============+=============+==========+============+\n",
            "| DecisionTree                |      0.82  |      0.8478 |     0.78 |    0.8125  |\n",
            "+-----------------------------+------------+-------------+----------+------------+\n",
            "| RandomForest                |      0.865 |      0.8762 |     0.85 |    0.86294 |\n",
            "+-----------------------------+------------+-------------+----------+------------+\n",
            "| AdaBoostClassifier          |      0.865 |      0.8762 |     0.85 |    0.86294 |\n",
            "+-----------------------------+------------+-------------+----------+------------+\n",
            "| semisupervised_decisiontree |      0.8   |      0.8    |     0.8  |    0.8     |\n",
            "+-----------------------------+------------+-------------+----------+------------+\n"
          ]
        }
      ],
      "source": [
        "#print results comparison in tabular form\n",
        "\n",
        "from tabulate import tabulate\n",
        "!pip install tabulate\n",
        "\n",
        "\n",
        "results = {}  # Dictionary to store results\n",
        "\n",
        "# Decision Tree\n",
        "results['DecisionTree'] = results_dt\n",
        "\n",
        "# Random Forest\n",
        "results['RandomForest'] = results_randomforest\n",
        "\n",
        "# AdaBoostClassifier\n",
        "results['AdaBoostClassifier'] = results_boosting\n",
        "\n",
        "# semisupervised_decisiontree\n",
        "results['semisupervised_decisiontree'] = results_semisupervised_decisiontree\n",
        "\n",
        "# Prepare data for the table\n",
        "table_data = []\n",
        "for algo, metrics in results.items():\n",
        "    table_data.append([algo, metrics[0], metrics[1], metrics[2], metrics[3]])  # Accuracy, Precision, Recall, F1-score\n",
        "\n",
        "# Print the table\n",
        "headers = [\"Algorithm\", \"Accuracy\", \"Precision\", \"Recall\", \"F1-score\"]\n",
        "print(tabulate(table_data, headers=headers, tablefmt=\"grid\"))  # Use \"grid\" for a grid-like table"
      ]
    }
  ],
  "metadata": {
    "colab": {
      "provenance": []
    },
    "kernelspec": {
      "display_name": "Python 3",
      "name": "python3"
    },
    "language_info": {
      "name": "python"
    }
  },
  "nbformat": 4,
  "nbformat_minor": 0
}